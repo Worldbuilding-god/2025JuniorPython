{
 "cells": [
  {
   "cell_type": "markdown",
   "id": "76b3ae39",
   "metadata": {},
   "source": [
    "# Programmatic thinking"
   ]
  },
  {
   "cell_type": "markdown",
   "id": "fea26c9f",
   "metadata": {},
   "source": [
    "## 1.1 Arithmetic operators\n",
    "\n",
    "<font color=\"orange\">Arithmetic operator<font> - Symbols that represent an arithmetic operation"
   ]
  },
  {
   "cell_type": "code",
   "execution_count": 1,
   "id": "ad25c646",
   "metadata": {},
   "outputs": [
    {
     "data": {
      "text/plain": [
       "42"
      ]
     },
     "execution_count": 1,
     "metadata": {},
     "output_type": "execute_result"
    }
   ],
   "source": [
    "30 + 12"
   ]
  },
  {
   "cell_type": "code",
   "execution_count": 2,
   "id": "cdc974a9",
   "metadata": {},
   "outputs": [
    {
     "data": {
      "text/plain": [
       "42"
      ]
     },
     "execution_count": 2,
     "metadata": {},
     "output_type": "execute_result"
    }
   ],
   "source": [
    "43 - 1"
   ]
  },
  {
   "cell_type": "code",
   "execution_count": 3,
   "id": "18029a76",
   "metadata": {},
   "outputs": [
    {
     "data": {
      "text/plain": [
       "42"
      ]
     },
     "execution_count": 3,
     "metadata": {},
     "output_type": "execute_result"
    }
   ],
   "source": [
    "6 * 7"
   ]
  },
  {
   "cell_type": "code",
   "execution_count": 4,
   "id": "001d391a",
   "metadata": {},
   "outputs": [
    {
     "data": {
      "text/plain": [
       "42.0"
      ]
     },
     "execution_count": 4,
     "metadata": {},
     "output_type": "execute_result"
    }
   ],
   "source": [
    "84 / 2"
   ]
  },
  {
   "cell_type": "markdown",
   "id": "dfc5d431",
   "metadata": {},
   "source": [
    "<b>Integers</b> - the natural numbers\n",
    "\n",
    "<b>Floating point</b> - not natural"
   ]
  },
  {
   "cell_type": "code",
   "execution_count": 5,
   "id": "c8fcac44",
   "metadata": {},
   "outputs": [
    {
     "data": {
      "text/plain": [
       "42"
      ]
     },
     "execution_count": 5,
     "metadata": {},
     "output_type": "execute_result"
    }
   ],
   "source": [
    "84 // 2 #Makes it an integer"
   ]
  },
  {
   "cell_type": "code",
   "execution_count": 6,
   "id": "4bdad6c2",
   "metadata": {},
   "outputs": [
    {
     "data": {
      "text/plain": [
       "49"
      ]
     },
     "execution_count": 6,
     "metadata": {},
     "output_type": "execute_result"
    }
   ],
   "source": [
    "#EXPONENTS!\n",
    "\n",
    "7 ** 2"
   ]
  },
  {
   "cell_type": "markdown",
   "id": "b6997e3f",
   "metadata": {},
   "source": [
    "# 1.2 EXPRESSIONS!"
   ]
  },
  {
   "cell_type": "markdown",
   "id": "27720aae",
   "metadata": {},
   "source": [
    "<b>EXPRESSIONS</b> - A collection of operators and numbers"
   ]
  },
  {
   "cell_type": "code",
   "execution_count": 7,
   "id": "91f5119e",
   "metadata": {},
   "outputs": [
    {
     "data": {
      "text/plain": [
       "42"
      ]
     },
     "execution_count": 7,
     "metadata": {},
     "output_type": "execute_result"
    }
   ],
   "source": [
    "6 + 6 ** 2"
   ]
  },
  {
   "cell_type": "markdown",
   "id": "13eae5bb",
   "metadata": {},
   "source": [
    "## 1.3 ARITHMETIC FUNCTIONS"
   ]
  },
  {
   "cell_type": "code",
   "execution_count": 8,
   "id": "47945177",
   "metadata": {},
   "outputs": [
    {
     "data": {
      "text/plain": [
       "42"
      ]
     },
     "execution_count": 8,
     "metadata": {},
     "output_type": "execute_result"
    }
   ],
   "source": [
    "round(42.2)"
   ]
  },
  {
   "cell_type": "code",
   "execution_count": 9,
   "id": "b1035732",
   "metadata": {},
   "outputs": [
    {
     "data": {
      "text/plain": [
       "42"
      ]
     },
     "execution_count": 9,
     "metadata": {},
     "output_type": "execute_result"
    }
   ],
   "source": [
    "round(41.6)"
   ]
  },
  {
   "cell_type": "code",
   "execution_count": 12,
   "id": "001faa67",
   "metadata": {},
   "outputs": [
    {
     "data": {
      "text/plain": [
       "42"
      ]
     },
     "execution_count": 12,
     "metadata": {},
     "output_type": "execute_result"
    }
   ],
   "source": [
    "abs(-42)"
   ]
  },
  {
   "cell_type": "markdown",
   "id": "72ae83cf",
   "metadata": {},
   "source": [
    "## 1.4 STRINGS"
   ]
  },
  {
   "cell_type": "code",
   "execution_count": 13,
   "id": "9832f9da",
   "metadata": {},
   "outputs": [
    {
     "data": {
      "text/plain": [
       "'HOLA'"
      ]
     },
     "execution_count": 13,
     "metadata": {},
     "output_type": "execute_result"
    }
   ],
   "source": [
    "\"HOLA\""
   ]
  },
  {
   "cell_type": "code",
   "execution_count": 14,
   "id": "b316026c",
   "metadata": {},
   "outputs": [
    {
     "data": {
      "text/plain": [
       "'spamspamspamspam'"
      ]
     },
     "execution_count": 14,
     "metadata": {},
     "output_type": "execute_result"
    }
   ],
   "source": [
    "\"spam\" * 4"
   ]
  },
  {
   "cell_type": "code",
   "execution_count": 15,
   "id": "6fd3450f",
   "metadata": {},
   "outputs": [
    {
     "data": {
      "text/plain": [
       "6"
      ]
     },
     "execution_count": 15,
     "metadata": {},
     "output_type": "execute_result"
    }
   ],
   "source": [
    "len(\"Spammm\")"
   ]
  },
  {
   "cell_type": "code",
   "execution_count": null,
   "id": "181a763a",
   "metadata": {},
   "outputs": [],
   "source": []
  }
 ],
 "metadata": {
  "kernelspec": {
   "display_name": "Python 3",
   "language": "python",
   "name": "python3"
  },
  "language_info": {
   "codemirror_mode": {
    "name": "ipython",
    "version": 3
   },
   "file_extension": ".py",
   "mimetype": "text/x-python",
   "name": "python",
   "nbconvert_exporter": "python",
   "pygments_lexer": "ipython3",
   "version": "3.12.1"
  }
 },
 "nbformat": 4,
 "nbformat_minor": 5
}
