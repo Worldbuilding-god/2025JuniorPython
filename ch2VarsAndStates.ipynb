{
 "cells": [
  {
   "cell_type": "markdown",
   "id": "eb953e85",
   "metadata": {},
   "source": [
    "## 2. VARIABLES AND STATEMENTS"
   ]
  },
  {
   "cell_type": "markdown",
   "id": "eb6a0d8c",
   "metadata": {},
   "source": [
    "## 2.1 Variables\n",
    "\n",
    "<b>Variables</b> - ***I*** know what those are"
   ]
  },
  {
   "cell_type": "code",
   "execution_count": 4,
   "id": "13b5e319",
   "metadata": {},
   "outputs": [],
   "source": [
    "n = 17"
   ]
  },
  {
   "cell_type": "markdown",
   "id": "d7c7a329",
   "metadata": {},
   "source": [
    "## Assignment statement"
   ]
  },
  {
   "cell_type": "code",
   "execution_count": 2,
   "id": "bc65aa5a",
   "metadata": {},
   "outputs": [],
   "source": [
    "pi = 3.1415926535897932384626433832795028841971693993751058209749445923078164062862089986280348253421170679\n",
    "\n",
    "message = \"Heyyyyyyyyyyyyyyyyyyyyyyyyyyyyyyyyyyy\""
   ]
  },
  {
   "cell_type": "code",
   "execution_count": 3,
   "id": "cb65a7f7",
   "metadata": {},
   "outputs": [
    {
     "data": {
      "text/plain": [
       "'Heyyyyyyyyyyyyyyyyyyyyyyyyyyyyyyyyyyy'"
      ]
     },
     "execution_count": 3,
     "metadata": {},
     "output_type": "execute_result"
    }
   ],
   "source": [
    "message"
   ]
  },
  {
   "cell_type": "code",
   "execution_count": 5,
   "id": "e3dbd956",
   "metadata": {},
   "outputs": [
    {
     "data": {
      "text/plain": [
       "17"
      ]
     },
     "execution_count": 5,
     "metadata": {},
     "output_type": "execute_result"
    }
   ],
   "source": [
    "n"
   ]
  },
  {
   "cell_type": "code",
   "execution_count": 6,
   "id": "46a58032",
   "metadata": {},
   "outputs": [
    {
     "data": {
      "text/plain": [
       "3.141592653589793"
      ]
     },
     "execution_count": 6,
     "metadata": {},
     "output_type": "execute_result"
    }
   ],
   "source": [
    "pi"
   ]
  },
  {
   "cell_type": "code",
   "execution_count": 7,
   "id": "e4dc33f2",
   "metadata": {},
   "outputs": [
    {
     "data": {
      "text/plain": [
       "3"
      ]
     },
     "execution_count": 7,
     "metadata": {},
     "output_type": "execute_result"
    }
   ],
   "source": [
    "round(pi)"
   ]
  },
  {
   "cell_type": "code",
   "execution_count": 9,
   "id": "dc9d4887",
   "metadata": {},
   "outputs": [
    {
     "data": {
      "text/plain": [
       "17"
      ]
     },
     "execution_count": 9,
     "metadata": {},
     "output_type": "execute_result"
    }
   ],
   "source": [
    "len(str(pi))"
   ]
  },
  {
   "cell_type": "markdown",
   "id": "48f15864",
   "metadata": {},
   "source": [
    "## 2.2.0.0.0.0.0.-1 STATE DIAGRAMS\n",
    "\n",
    "Figure that shows the state each of the variables"
   ]
  },
  {
   "cell_type": "markdown",
   "id": "14fdc77c",
   "metadata": {},
   "source": []
  },
  {
   "cell_type": "markdown",
   "id": "cf6c78ae",
   "metadata": {},
   "source": [
    "## 2.3.-1.-1 Variable names"
   ]
  },
  {
   "cell_type": "markdown",
   "id": "ac9fc446",
   "metadata": {},
   "source": [
    "The only punct that you can use is \"_\"\n",
    "NO NUMBERS AT THE BEGGINING!\n",
    "NO PYTHON KEYWORDS!\n"
   ]
  }
 ],
 "metadata": {
  "kernelspec": {
   "display_name": "Python 3",
   "language": "python",
   "name": "python3"
  },
  "language_info": {
   "codemirror_mode": {
    "name": "ipython",
    "version": 3
   },
   "file_extension": ".py",
   "mimetype": "text/x-python",
   "name": "python",
   "nbconvert_exporter": "python",
   "pygments_lexer": "ipython3",
   "version": "3.12.1"
  }
 },
 "nbformat": 4,
 "nbformat_minor": 5
}
