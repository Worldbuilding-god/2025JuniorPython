{
 "cells": [
  {
   "cell_type": "markdown",
   "id": "eb953e85",
   "metadata": {},
   "source": [
    "## 2. VARIABLES AND STATEMENTS"
   ]
  },
  {
   "cell_type": "markdown",
   "id": "eb6a0d8c",
   "metadata": {},
   "source": []
  }
 ],
 "metadata": {
  "language_info": {
   "name": "python"
  }
 },
 "nbformat": 4,
 "nbformat_minor": 5
}
