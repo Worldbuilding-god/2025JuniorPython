{
 "cells": [
  {
   "cell_type": "markdown",
   "id": "eb953e85",
   "metadata": {},
   "source": [
    "## 2. VARIABLES AND STATEMENTS"
   ]
  },
  {
   "cell_type": "markdown",
   "id": "eb6a0d8c",
   "metadata": {},
   "source": [
    "## 2.1 Variables\n",
    "\n",
    "<b>Variables</b> - ***I*** know what those are"
   ]
  },
  {
   "cell_type": "code",
   "execution_count": 6,
   "id": "13b5e319",
   "metadata": {},
   "outputs": [],
   "source": [
    "n = 17"
   ]
  },
  {
   "cell_type": "markdown",
   "id": "d7c7a329",
   "metadata": {},
   "source": [
    "## Assignment statement"
   ]
  },
  {
   "cell_type": "code",
   "execution_count": 7,
   "id": "bc65aa5a",
   "metadata": {},
   "outputs": [],
   "source": [
    "pi = 3.1415926535897932384626433832795028841971693993751058209749445923078164062862089986280348253421170679\n",
    "\n",
    "message = \"Heyyyyyyyyyyyyyyyyyyyyyyyyyyyyyyyyyyy\""
   ]
  },
  {
   "cell_type": "code",
   "execution_count": 8,
   "id": "cb65a7f7",
   "metadata": {},
   "outputs": [
    {
     "data": {
      "text/plain": [
       "'Heyyyyyyyyyyyyyyyyyyyyyyyyyyyyyyyyyyy'"
      ]
     },
     "execution_count": 8,
     "metadata": {},
     "output_type": "execute_result"
    }
   ],
   "source": [
    "message"
   ]
  },
  {
   "cell_type": "code",
   "execution_count": 9,
   "id": "e3dbd956",
   "metadata": {},
   "outputs": [
    {
     "data": {
      "text/plain": [
       "17"
      ]
     },
     "execution_count": 9,
     "metadata": {},
     "output_type": "execute_result"
    }
   ],
   "source": [
    "n"
   ]
  },
  {
   "cell_type": "code",
   "execution_count": 10,
   "id": "46a58032",
   "metadata": {},
   "outputs": [
    {
     "data": {
      "text/plain": [
       "3.141592653589793"
      ]
     },
     "execution_count": 10,
     "metadata": {},
     "output_type": "execute_result"
    }
   ],
   "source": [
    "pi"
   ]
  },
  {
   "cell_type": "code",
   "execution_count": 11,
   "id": "e4dc33f2",
   "metadata": {},
   "outputs": [
    {
     "data": {
      "text/plain": [
       "3"
      ]
     },
     "execution_count": 11,
     "metadata": {},
     "output_type": "execute_result"
    }
   ],
   "source": [
    "round(pi)"
   ]
  },
  {
   "cell_type": "code",
   "execution_count": 12,
   "id": "dc9d4887",
   "metadata": {},
   "outputs": [
    {
     "data": {
      "text/plain": [
       "17"
      ]
     },
     "execution_count": 12,
     "metadata": {},
     "output_type": "execute_result"
    }
   ],
   "source": [
    "len(str(pi))"
   ]
  },
  {
   "cell_type": "markdown",
   "id": "48f15864",
   "metadata": {},
   "source": [
    "## 2.2.0.0.0.0.0.-1 STATE DIAGRAMS\n",
    "\n",
    "Figure that shows the state each of the variables"
   ]
  },
  {
   "cell_type": "markdown",
   "id": "14fdc77c",
   "metadata": {},
   "source": []
  },
  {
   "cell_type": "markdown",
   "id": "cf6c78ae",
   "metadata": {},
   "source": [
    "## 2.3.-1.-1 Variable names"
   ]
  },
  {
   "cell_type": "markdown",
   "id": "ac9fc446",
   "metadata": {},
   "source": [
    "The only punct that you can use is \"_\"\n",
    "NO NUMBERS AT THE BEGGINING!\n",
    "NO PYTHON KEYWORDS!\n"
   ]
  },
  {
   "cell_type": "markdown",
   "id": "5499e78a",
   "metadata": {},
   "source": [
    "## 2.4.-∞ The import statement"
   ]
  },
  {
   "cell_type": "code",
   "execution_count": 13,
   "id": "c7abe7c8",
   "metadata": {},
   "outputs": [],
   "source": [
    "import math"
   ]
  },
  {
   "cell_type": "code",
   "execution_count": 14,
   "id": "f1b156a8",
   "metadata": {},
   "outputs": [
    {
     "data": {
      "text/plain": [
       "9.332621544394415e+155"
      ]
     },
     "execution_count": 14,
     "metadata": {},
     "output_type": "execute_result"
    }
   ],
   "source": [
    "math.gamma(100)"
   ]
  },
  {
   "cell_type": "markdown",
   "id": "ba31ba58",
   "metadata": {},
   "source": [
    "## 2.5.²√-1 Expressions and statements"
   ]
  },
  {
   "cell_type": "markdown",
   "id": "99cded70",
   "metadata": {},
   "source": [
    "Statement? -- -- -- -- UNIT OF CODE THAT HAS AN EFFECT BUT NO VALUE"
   ]
  },
  {
   "cell_type": "markdown",
   "id": "a569f898",
   "metadata": {},
   "source": [
    "## 2.6.²3 THE PRINT FUNCTION"
   ]
  },
  {
   "cell_type": "markdown",
   "id": "7f15bba0",
   "metadata": {},
   "source": [
    "One of the most basic functions"
   ]
  },
  {
   "cell_type": "markdown",
   "id": "2565a93a",
   "metadata": {},
   "source": [
    "## 2.7.-0 ARGUMENTS"
   ]
  },
  {
   "cell_type": "markdown",
   "id": "65c07440",
   "metadata": {},
   "source": [
    "The expression in the parenthesis in a function"
   ]
  },
  {
   "cell_type": "code",
   "execution_count": 15,
   "id": "c6b90a43",
   "metadata": {},
   "outputs": [
    {
     "data": {
      "text/plain": [
       "5"
      ]
     },
     "execution_count": 15,
     "metadata": {},
     "output_type": "execute_result"
    }
   ],
   "source": [
    "int(\"101\", 2)"
   ]
  },
  {
   "cell_type": "code",
   "execution_count": 17,
   "id": "88cfe5e3",
   "metadata": {},
   "outputs": [
    {
     "data": {
      "text/plain": [
       "3.142"
      ]
     },
     "execution_count": 17,
     "metadata": {},
     "output_type": "execute_result"
    }
   ],
   "source": [
    "round(pi, 3)"
   ]
  },
  {
   "cell_type": "markdown",
   "id": "f49eb526",
   "metadata": {},
   "source": [
    "## 2.8.0000.....1 COMMENTS"
   ]
  },
  {
   "cell_type": "code",
   "execution_count": 18,
   "id": "acf5d7ea",
   "metadata": {},
   "outputs": [],
   "source": [
    "#we already know how to do this"
   ]
  },
  {
   "cell_type": "code",
   "execution_count": null,
   "id": "7f654114",
   "metadata": {},
   "outputs": [],
   "source": []
  }
 ],
 "metadata": {
  "kernelspec": {
   "display_name": "Python 3",
   "language": "python",
   "name": "python3"
  },
  "language_info": {
   "codemirror_mode": {
    "name": "ipython",
    "version": 3
   },
   "file_extension": ".py",
   "mimetype": "text/x-python",
   "name": "python",
   "nbconvert_exporter": "python",
   "pygments_lexer": "ipython3",
   "version": "3.12.1"
  }
 },
 "nbformat": 4,
 "nbformat_minor": 5
}
